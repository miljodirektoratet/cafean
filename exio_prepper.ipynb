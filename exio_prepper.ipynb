{
 "cells": [
  {
   "cell_type": "markdown",
   "id": "344c053a",
   "metadata": {},
   "source": [
    " # EXIOBASE downloand and perparetion script\n",
    "\n",
    "This script prepares the EXIOBASE3 data for use in the SNAC coupling.\n",
    "\n",
    "Copyright (C) 2023, XIO Sustainbility Accounting, Inc - All Rights Reserved\n",
    "\n",
    "Unauthorized copying of this file, via any medium is strictly prohibited\n",
    "Proprietary and confidential\n",
    "\n",
    "Written by\n",
    "\n",
    "    - Richard Wood\n",
    "    - Konstantin Stadler\n",
    "\n",
    "EXIOBASE3 is available at:\n",
    "https://zenodo.org/record/4588235\n",
    "Note, v3.8.2 is used in the generation of results in this script.\n",
    "\n",
    "You must set the directory for the exiobase data with\n",
    "exio3_folder, or you can uncomment text to use the autodownload function\n",
    "\n",
    "Requires pandas, numpy and pymrio to run.\n",
    "Pymrio available at: https://github.com/IndEcol/pymrio/\n"
   ]
  },
  {
   "cell_type": "code",
   "execution_count": null,
   "id": "e5ebd9ae",
   "metadata": {},
   "outputs": [],
   "source": [
    "import pandas as pd\n",
    "import pymrio\n",
    "import pymrio.tools.iomath as iomath"
   ]
  },
  {
   "cell_type": "markdown",
   "id": "b50fe610",
   "metadata": {},
   "source": [
    "Python internal packages (this dont need to be installed, part of standard python)"
   ]
  },
  {
   "cell_type": "code",
   "execution_count": null,
   "id": "14c194c7",
   "metadata": {},
   "outputs": [],
   "source": [
    "from pathlib import Path"
   ]
  },
  {
   "cell_type": "markdown",
   "id": "1e4961b9",
   "metadata": {},
   "source": [
    "## Settings"
   ]
  },
  {
   "cell_type": "markdown",
   "id": "3bb0bb53",
   "metadata": {},
   "source": [
    "### Year parameter\n",
    "First, the years for which the EXIOBASE data should be prepared are defined.\n",
    "These need to cover the years for the SNAC coupling."
   ]
  },
  {
   "cell_type": "code",
   "execution_count": null,
   "id": "5bd96151",
   "metadata": {},
   "outputs": [],
   "source": [
    "# years : list[int] = list(range(2012, 2021))\n",
    "years : list[int] = [2019]"
   ]
  },
  {
   "cell_type": "markdown",
   "id": "cd8bef9d",
   "metadata": {},
   "source": [
    "### Locations / folder definitions"
   ]
  },
  {
   "cell_type": "markdown",
   "id": "bfb7df7a",
   "metadata": {},
   "source": [
    "First we define the general working directory."
   ]
  },
  {
   "cell_type": "code",
   "execution_count": null,
   "id": "1b41de90",
   "metadata": {
    "lines_to_next_cell": 2
   },
   "outputs": [],
   "source": [
    "# Set the work path to the directory where this script is located \n",
    "# and if this is not available to the current working directory\n",
    "try:\n",
    "    work_path = Path(__file__).parent.absolute()  # when running as script\n",
    "except NameError:\n",
    "    work_path = Path.cwd()\n",
    "\n",
    "data_path: Path = work_path / \"data\""
   ]
  },
  {
   "cell_type": "markdown",
   "id": "04c56d0a",
   "metadata": {},
   "source": [
    "Then the file with the characterization factors/exiobase stressor conversin."
   ]
  },
  {
   "cell_type": "code",
   "execution_count": null,
   "id": "baeb9247",
   "metadata": {
    "lines_to_next_cell": 2
   },
   "outputs": [],
   "source": [
    "exio_stressor_to_nor = pd.read_excel(\n",
    "    data_path / \"emis_conv_char.xlsx\", sheet_name=\"exio_nor_conv\", index_col=0\n",
    ")\n",
    "charact_ghg = pd.read_excel(\n",
    "    data_path / \"emis_conv_char.xlsx\", sheet_name=\"nor_char\", index_col=0\n",
    ")"
   ]
  },
  {
   "cell_type": "markdown",
   "id": "b9fb0767",
   "metadata": {
    "lines_to_next_cell": 2
   },
   "source": [
    "Here we define the folder for the EXIOBASE raw data.\n",
    "This can be anywhere on the disk (in case EXIOBASE is available locally already).\n",
    "By default, we set it to ./exiobase within the project repository. This folder\n",
    "is not tracked by version control (added to .gitignore).\n",
    "The script works with both, the original\n",
    "compressed zip downloads or extracted folders."
   ]
  },
  {
   "cell_type": "code",
   "execution_count": null,
   "id": "451b3597",
   "metadata": {},
   "outputs": [],
   "source": [
    "exio_raw_path: Path = (\n",
    "    work_path / \"exiobase\"\n",
    ")  "
   ]
  },
  {
   "cell_type": "markdown",
   "id": "d71889b5",
   "metadata": {
    "lines_to_next_cell": 2
   },
   "source": [
    "Then the two files containing the additional biogenic CO2 dataset for EXIOBASE\n",
    "\n",
    "F_CO2_bio_file = data_path / \"F_ixi_CO2biogenic.csv\"\n",
    "F_Y_CO2_bio_file = data_path / \"F_Y_ixi_CO2biogenic.csv\""
   ]
  },
  {
   "cell_type": "markdown",
   "id": "bd27e9e0",
   "metadata": {
    "lines_to_next_cell": 2
   },
   "source": [
    "Finally we specify the folder for the extracted EXIOBASE data. \n",
    "This needs to match the EXIOBASE folder in the main SNAC modelling script."
   ]
  },
  {
   "cell_type": "code",
   "execution_count": null,
   "id": "c67959f4",
   "metadata": {},
   "outputs": [],
   "source": [
    "exio_prep_path: Path = data_path \n",
    "exio_prep_path.mkdir(exist_ok=True)"
   ]
  },
  {
   "cell_type": "markdown",
   "id": "82194ef5",
   "metadata": {},
   "source": [
    "## EXIOBASE download\n",
    "NOTE: Comment out this cell if the EXIOBASE files are already downloaded and unpacked.\n",
    "Update in pymrio coming soon to handle that case as well."
   ]
  },
  {
   "cell_type": "code",
   "execution_count": null,
   "id": "9e0adfa1",
   "metadata": {},
   "outputs": [],
   "source": [
    "for year in years:\n",
    "    print(f\"Downloading EXIOBASE for year {year}\")\n",
    "\n",
    "    pymrio.download_exiobase3(\n",
    "        storage_folder=exio_raw_path,\n",
    "        doi=\"10.5281/zenodo.5589597\",  # That is version 3.8.2\n",
    "        system=\"ixi\",\n",
    "        years=years,\n",
    "        overwrite_existing=False,\n",
    "    )"
   ]
  },
  {
   "cell_type": "markdown",
   "id": "3c5380ff",
   "metadata": {},
   "source": [
    "## Emission and import account generation"
   ]
  },
  {
   "cell_type": "code",
   "execution_count": null,
   "id": "c62234c0",
   "metadata": {},
   "outputs": [],
   "source": [
    "yearly_totals = dict()\n",
    "yearly_imports = dict()\n",
    "yearly_diag = dict()\n",
    "\n",
    "for year in years:\n",
    "    print(f\"Processing EXIOBASE files for year {year}\")\n",
    "\n",
    "    exio_files = exio_raw_path.glob(f\"IOT_{year}_ixi*\")\n",
    "\n",
    "    if not exio_files:\n",
    "        print(f\"Warning: No EXIOBASE files found for year {year}.\")\n",
    "        continue\n",
    "    else:\n",
    "        # We just take the first found, in case we have zip and extracted folders\n",
    "        exio_file = next(exio_files)\n",
    "\n",
    "    exio3 = pymrio.parse_exiobase3(exio_file)\n",
    "\n",
    "    exio3.reset_extensions()\n",
    "\n",
    "    # Add the biogenic CO2 data\n",
    "    F_CO2_bio = pd.read_csv(F_CO2_bio_file, index_col=0, header=[0,1], sep='\\t').loc[year, :]\n",
    "    F_CO2_bio.name = 'CO2 – biogenic - air'\n",
    "    F_CO2_bio = pd.DataFrame(F_CO2_bio).T\n",
    "    F_CO2_bio.index.name = 'stressor'\n",
    "\n",
    "    F_Y_CO2_bio = pd.read_csv(F_Y_CO2_bio_file, index_col=0, header=[0,1], sep='\\t').loc[year, :]\n",
    "    F_Y_CO2_bio.name = 'CO2 – biogenic - air'\n",
    "    F_Y_CO2_bio = pd.DataFrame(F_Y_CO2_bio).T\n",
    "    F_Y_CO2_bio.index.name = 'stressor'\n",
    "\n",
    "    F_CO2_bio_unit = pd.DataFrame(index=F_CO2_bio.index, columns=['unit'], data='kg') \n",
    "\n",
    "    exio3.satellite = pymrio.concate_extension(exio3.satellite, pymrio.Extension(F=F_CO2_bio,\n",
    "                                                                                 F_Y=F_Y_CO2_bio,\n",
    "                                                                                 unit=F_CO2_bio_unit,\n",
    "                                                                                 name=\"CO2bio\"),\n",
    "                                               name=exio3.satellite.name)\n",
    "\n",
    "    # Make a satellite account mirriroing the Norwegian emission data\n",
    "    emis_like_nor = exio3.satellite.characterize(\n",
    "        factors=exio_stressor_to_nor.reset_index(),\n",
    "        characterized_name_column=\"ghg_type\",\n",
    "        characterization_factors_column=\"factor\",\n",
    "        characterized_unit_column=\"ghg_type_unit\",\n",
    "        name=\"emissions\",)\n",
    "\n",
    "    emis_like_nor.F.index.name = \"stressor\"\n",
    "\n",
    "    emis_like_nor.F_Y.index.name = \"stressor\"\n",
    "\n",
    "    emis_ghg = emis_like_nor.characterize(\n",
    "        factors=charact_ghg.reset_index(),\n",
    "        characterized_name_column=\"impact\",\n",
    "        characterization_factors_column=\"factor\",\n",
    "        characterized_unit_column=\"impact_unit\",\n",
    "        name=\"ghg\",)\n",
    "\n",
    "    emissions = pymrio.concate_extension(emis_ghg, emis_like_nor, name=\"emissions\")\n",
    "\n",
    "    exio3.emissions = emissions\n",
    "    exio3.satellite = None\n",
    "    exio3.impacts = None\n",
    "\n",
    "    exio3.calc_all()\n",
    "\n",
    "    gross_trade = iomath.calc_gross_trade(exio3.Z, exio3.Y)\n",
    "\n",
    "    imp_emis = ((exio3.emissions.M * gross_trade.bilat_flows[\"NO\"])\n",
    "                    .T.groupby(\"sector\", sort=False)\n",
    "                    .sum())\n",
    "\n",
    "    fd_emis = exio3.emissions.D_cba.loc[:, 'NO'].T.groupby(\"sector\", sort=False).sum()\n",
    "\n",
    "    imp_monetary = gross_trade.totals.imports['NO']  \n",
    "\n",
    "    fd_monetary = exio3.Y.loc[:, 'NO'].sum(axis=1).T.groupby(\"sector\", sort=False).sum()\n",
    "    fd_monetary.name = 'Final demand'\n",
    "\n",
    "    # Prep output compatible with the matlab script\n",
    "    sec = pymrio.get_classification('exio3_ixi').sectors\n",
    "    rename_dict = sec.loc[:, ('ExioName', 'ExioCode')].set_index('ExioName').to_dict()['ExioCode']\n",
    "\n",
    "    _tot_fd = pd.concat([fd_monetary, fd_emis], axis=1).T\n",
    "    _tot_fd.loc[:, 'unit'] = exio3.emissions.unit\n",
    "    _tot_fd.loc['Final demand', 'unit'] = exio3.unit.iloc[0,0]\n",
    "    total_fd = _tot_fd.set_index('unit', append=True).T.rename(index=rename_dict)\n",
    "     \n",
    "    _tot_imp = pd.concat([imp_monetary, imp_emis], axis=1).T\n",
    "    _tot_imp.loc[:, 'unit'] = exio3.emissions.unit\n",
    "    _tot_imp.loc['imports', 'unit'] = exio3.unit.iloc[0,0]\n",
    "    total_imp = _tot_imp.set_index('unit', append=True).T.rename(index=rename_dict)\n",
    "   \n",
    "    yearly_totals[year] = total_fd\n",
    "    yearly_imports[year] = total_imp\n",
    "\n",
    "    # Diagonalization of the emissions\n",
    "    diag_coll = dict()\n",
    "\n",
    "    for emis in exio3.emissions.get_rows():\n",
    "        print(f\"Diagonalizing {emis}\")\n",
    "        eclean = emis.replace(' ', '_') + '_diag'\n",
    "        setattr(exio3, eclean,  exio3.emissions.diag_stressor(emis, name=emis))\n",
    "        exio3.calc_all()\n",
    "        Dcba = getattr(exio3, eclean).D_cba.groupby(level='region').sum().loc[:, 'NO']\n",
    "        diag_coll[emis] = Dcba.T.rename(index=rename_dict)\n",
    "        # When short on memory, we can delete the diagonalized emissions again\n",
    "        delattr(exio3, eclean)\n",
    "\n",
    "    dd = pd.concat(diag_coll, axis=1, names=['emissions'])\n",
    "    yearly_diag[year] = dd\n",
    "\n",
    "\n",
    "    # Q_imp_exio = exio_imp_emis.divide(gross_trade.totals.imports['NO'], axis=0).fillna(0)\n",
    "    #\n",
    "    # Q_fd_exio = exio_fd_emis.divide(total_fd, axis=0).fillna(0)"
   ]
  },
  {
   "cell_type": "markdown",
   "id": "b41d97af",
   "metadata": {},
   "source": [
    "# Saving results\n",
    "Save the totals and imports in excel, with one sheet per year"
   ]
  },
  {
   "cell_type": "code",
   "execution_count": null,
   "id": "d7b314b2",
   "metadata": {},
   "outputs": [],
   "source": [
    "with pd.ExcelWriter(exio_prep_path / 'exio_no_bp_raw.xlsx') as writer:\n",
    "    for year in years:\n",
    "        yearly_totals[year].to_excel(writer, sheet_name=f\"fd_{str(year)}\")\n",
    "        yearly_imports[year].to_excel(writer, sheet_name=f\"imp_{str(year)}\")\n",
    "        yearly_diag[year].to_excel(writer, sheet_name=f\"source_{str(year)}\")"
   ]
  }
 ],
 "metadata": {
  "jupytext": {
   "cell_metadata_filter": "-all",
   "encoding": "# -*- coding: utf-8 -*-",
   "notebook_metadata_filter": "-all"
  },
  "kernelspec": {
   "display_name": "Python 3 (ipykernel)",
   "language": "python",
   "name": "python3"
  },
  "language_info": {
   "codemirror_mode": {
    "name": "ipython",
    "version": 3
   },
   "file_extension": ".py",
   "mimetype": "text/x-python",
   "name": "python",
   "nbconvert_exporter": "python",
   "pygments_lexer": "ipython3",
   "version": "3.12.0"
  }
 },
 "nbformat": 4,
 "nbformat_minor": 5
}
