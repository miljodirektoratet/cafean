{
 "cells": [
  {
   "cell_type": "markdown",
   "id": "323725dc",
   "metadata": {},
   "source": [
    " # Small utility for converting the result files to excel\n",
    "\n",
    "The data converted here can then be copy paste data into corresponding .xlsx file from\n",
    "the original report to reproduce the result figures.\n",
    "\n",
    "NOTE: This script must run after the `aggregater.py` script has been run.\n",
    "\n",
    "Results are stored at results/excel_report_format\n",
    "\n",
    "Requires pandas\n"
   ]
  },
  {
   "cell_type": "markdown",
   "id": "15bf2dbd",
   "metadata": {},
   "source": [
    "Import required libraries"
   ]
  },
  {
   "cell_type": "code",
   "execution_count": 3,
   "id": "612b27b0",
   "metadata": {},
   "outputs": [],
   "source": [
    "from pathlib import Path\n",
    "import pandas as pd"
   ]
  },
  {
   "cell_type": "markdown",
   "id": "a9e57710",
   "metadata": {},
   "source": [
    "Set the work path to the directory where this script is located\n",
    "and if this is not available to the current working directory"
   ]
  },
  {
   "cell_type": "code",
   "execution_count": 4,
   "id": "2fd4ce57",
   "metadata": {},
   "outputs": [],
   "source": [
    "try:\n",
    "    work_path = Path(__file__).parent.absolute()  # when running as script\n",
    "except NameError:\n",
    "    work_path = Path.cwd()"
   ]
  },
  {
   "cell_type": "markdown",
   "id": "3a6f6418",
   "metadata": {},
   "source": [
    "Folder definitions"
   ]
  },
  {
   "cell_type": "code",
   "execution_count": 5,
   "id": "52a8bff2-2596-4255-a3a2-9befaddb97ca",
   "metadata": {},
   "outputs": [],
   "source": [
    "results_folder = work_path / \"results\"\n",
    "\n",
    "report_folder = results_folder / \"excel_report_format\"\n",
    "report_folder.mkdir(exist_ok=True)"
   ]
  },
  {
   "cell_type": "markdown",
   "id": "6d8bd302",
   "metadata": {},
   "source": [
    "Read result files and convert to table format"
   ]
  },
  {
   "cell_type": "code",
   "execution_count": 6,
   "id": "c38f6784",
   "metadata": {},
   "outputs": [],
   "source": [
    "_tot_all = pd.read_csv(results_folder / \"total_accounts.tsv\", sep=\"\\t\")\n",
    "ind_col = [c for c in _tot_all.columns if c != \"value\"]\n",
    "all_totals = _tot_all.set_index(ind_col, append=False, drop=True).squeeze()\n",
    "\n",
    "for emis in all_totals.index.get_level_values(\"emission\").unique():\n",
    "    tot = all_totals.loc[\n",
    "        all_totals.index.get_level_values(\"emission\") == emis, :\n",
    "    ].unstack(\"year\")\n",
    "    if \"Biomass\" in emis:\n",
    "        filename = report_folder / \"bio_totals.tsv\"\n",
    "    else:\n",
    "        filename = report_folder / f\"{emis}_totals.tsv\"\n",
    "    tot.to_csv(filename, sep=\"\\t\")\n",
    "\n",
    "all_sources_agg = pd.read_csv(results_folder / \"footprint_sources_agg.tsv\", sep=\"\\t\")\n",
    "ghg_source_reg_agg = (\n",
    "    all_sources_agg.query(\"emission=='GHG'\").query(\"year==2020\").drop(\"year\", axis=1)\n",
    ")\n",
    "ghg_source_reg_agg.set_index(\n",
    "    [\"emission\", \"unit\", \"sector\", \"region\"], inplace=True, append=True\n",
    ")\n",
    "ghg_source_reg_agg = ghg_source_reg_agg.droplevel(0, axis=0)\n",
    "ghg_source_reg_agg_pivot = ghg_source_reg_agg.unstack(\"region\")\n",
    "ghg_source_reg_agg_pivot = ghg_source_reg_agg_pivot.droplevel(0, axis=1)\n",
    "ghg_source_reg_agg_pivot.to_csv(report_folder / \"ghg_source_reg_agg_2020.tsv\", sep=\"\\t\")\n",
    "\n",
    "emis_sources_totals = pd.read_csv(results_folder / \"footprint_sources_totals_with_households_agg.tsv\", sep=\"\\t\")\n",
    "\n",
    "year_to_extract = 2020\n",
    "src_tot_2020 = emis_sources_totals.loc[emis_sources_totals.year == year_to_extract, :].set_index(['year', 'emission', 'region', 'unit']).loc[year_to_extract, 'value'].unstack('region')\n",
    "src_tot_2020.to_csv(report_folder / \"emis_sources_totals_with_households_2020.tsv\", sep=\"\\t\")\n",
    "\n",
    "# Alternative method to save in excel in different sheets\n",
    "# with pd.ExcelWriter(report_folder / \"emis_sources_totals_with_households_all_years.xlsx\") as writer:\n",
    "#     for year in emis_sources_totals.year.unique():\n",
    "#         df = emis_sources_totals.loc[emis_sources_totals.year == year, :].set_index(['year', 'emission', 'region', 'unit']).loc[year, 'value'].unstack('region')\n",
    "#         df.to_excel(writer, sheet_name=str(year))\n",
    "\n",
    "all_sector_breakdown_agg = pd.read_csv(\n",
    "    results_folder / \"sector_accounts_agg.tsv\", sep=\"\\t\"\n",
    ")\n",
    "for loop_component in all_sector_breakdown_agg.component.unique():\n",
    "    ghg_sector = (\n",
    "        all_sector_breakdown_agg.query(\"year==2020\")\n",
    "        .query(\"component==@loop_component\")\n",
    "        .drop(\"year\", axis=1)\n",
    "        .drop(\"component\", axis=1)\n",
    "        .drop(\"unit\", axis=1)\n",
    "    )\n",
    "    ghg_sector.set_index([\"emission\", \"sector\"], inplace=True, append=True)\n",
    "    ghg_sector = ghg_sector.droplevel(0, axis=0)\n",
    "    ghg_sector_pivot = ghg_sector.unstack(\"emission\")\n",
    "    ghg_sector_pivot = ghg_sector_pivot.droplevel(0, axis=1)\n",
    "    ghg_sector_pivot = ghg_sector_pivot[\n",
    "        [\"GHG\", \"CO2\", \"Biomass CO2\", \"N2O\", \"SF6_NF3\", \"CH4\", \"HFC\", \"PFC\"]\n",
    "    ]\n",
    "    output_file_path = report_folder / (\n",
    "        \"sector_accounts_agg_2020_\" + str(loop_component) + \".tsv\"\n",
    "    )\n",
    "    ghg_sector_pivot.to_csv(output_file_path, sep=\"\\t\")\n",
    "\n",
    "\n",
    "all_findem_breakdown_agg = pd.read_csv(\n",
    "    results_folder / \"footprints_final_demand_breakdown_agg.tsv\", sep=\"\\t\"\n",
    ")\n",
    "ghg_findem = (\n",
    "    all_findem_breakdown_agg.query(\"emission=='GHG'\")\n",
    "    .query(\"year==2020\")\n",
    "    .query(\"component=='total_footprint'\")\n",
    "    .drop(\"year\", axis=1)\n",
    "    .drop(\"component\", axis=1)\n",
    ")\n",
    "ghg_findem.set_index(\n",
    "    [\"emission\", \"unit\", \"sector\", \"category\"], inplace=True, append=True\n",
    ")\n",
    "ghg_findem = ghg_findem.droplevel(0, axis=0)\n",
    "ghg_findem_pivot = ghg_findem.unstack(\"category\")\n",
    "ghg_findem_pivot = ghg_findem_pivot.droplevel(0, axis=1)\n",
    "output_file_path = report_folder / (\n",
    "    \"sector_accounts_agg_GHG_final_demand_breakdown_2020.tsv\"\n",
    ")\n",
    "ghg_findem_pivot.to_csv(output_file_path, sep=\"\\t\")"
   ]
  }
 ],
 "metadata": {
  "jupytext": {
   "cell_metadata_filter": "-all",
   "encoding": "# -*- coding: utf-8 -*-",
   "notebook_metadata_filter": "-all"
  },
  "kernelspec": {
   "display_name": "Python 3 (ipykernel)",
   "language": "python",
   "name": "python3"
  },
  "language_info": {
   "codemirror_mode": {
    "name": "ipython",
    "version": 3
   },
   "file_extension": ".py",
   "mimetype": "text/x-python",
   "name": "python",
   "nbconvert_exporter": "python",
   "pygments_lexer": "ipython3",
   "version": "3.12.0"
  }
 },
 "nbformat": 4,
 "nbformat_minor": 5
}
