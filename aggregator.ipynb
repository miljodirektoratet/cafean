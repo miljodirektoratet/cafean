{
 "cells": [
  {
   "cell_type": "markdown",
   "id": "dc4583b8",
   "metadata": {},
   "source": [
    " # Small aggregator utility script\n",
    "\n",
    "This can be used to aggregate sector and/or regions of the results produced by the `nor_exio_snac` script.\n",
    "\n",
    "The aggregation keys are read from\n",
    "\n",
    "./data/sector_agg_spec.tsv\n",
    "./data/region_agg_spec.tsv\n",
    "\n",
    "Changing the aggregation keys should happen in these files, then rerun the script.\n",
    "\n",
    "Requires pandas\n"
   ]
  },
  {
   "cell_type": "markdown",
   "id": "b1a8aa9e",
   "metadata": {},
   "source": [
    "Import of required external packages."
   ]
  },
  {
   "cell_type": "code",
   "execution_count": 2,
   "id": "455b9306",
   "metadata": {},
   "outputs": [],
   "source": [
    "from pathlib import Path\n",
    "import pandas as pd"
   ]
  },
  {
   "cell_type": "markdown",
   "id": "9fe45dcc",
   "metadata": {},
   "source": [
    "Folder where the results are stored. "
   ]
  },
  {
   "cell_type": "code",
   "execution_count": 3,
   "id": "790429f0",
   "metadata": {},
   "outputs": [],
   "source": [
    "# Set the work path to the directory where this script is located\n",
    "# and if this is not available to the current working directory\n",
    "try:\n",
    "    work_path = Path(__file__).parent.absolute()  # when running as script\n",
    "except NameError:\n",
    "    work_path = Path.cwd()\n",
    "\n",
    "results_folder = work_path / \"results\""
   ]
  },
  {
   "cell_type": "markdown",
   "id": "14d9fdb6",
   "metadata": {},
   "source": [
    "File(s) to aggregate. \n",
    "The script can also be used to just aggregate a specific file, \n",
    "just pass the path to that file within a list."
   ]
  },
  {
   "cell_type": "code",
   "execution_count": 4,
   "id": "5efcdfce",
   "metadata": {},
   "outputs": [],
   "source": [
    "src_files = list(results_folder.glob(\"*.tsv\"))"
   ]
  },
  {
   "cell_type": "markdown",
   "id": "ca1955ba",
   "metadata": {},
   "source": [
    "Suffix for the aggregated file.\n",
    "This will be appended to the filename before the extension.\n",
    "For example: result.tsv -> result_agg.tsv\n",
    "Note: result files will be stored in the same folder as the source file and \n",
    "overwrite already existing files with the same name."
   ]
  },
  {
   "cell_type": "code",
   "execution_count": 5,
   "id": "ea4b5d8f",
   "metadata": {},
   "outputs": [],
   "source": [
    "agg_suffix = \"_agg\""
   ]
  },
  {
   "cell_type": "markdown",
   "id": "d68baf75",
   "metadata": {},
   "source": [
    "Aggregation specification\n",
    "This must be a pandas data-frame with columns `src` and `agg`. \n",
    "This can be stored anywhere, we provide the ones used in the \n",
    "report in the `data` folder.\n",
    "\n",
    "Set reg_agg or sec_agg to None if aggregation along this dimension is not required.\n",
    "One can also manually define the aggregation specification as \n",
    "a dictionary (or a pandas data-frame and convert to dict), \n",
    "with src as key and agg as value."
   ]
  },
  {
   "cell_type": "code",
   "execution_count": 6,
   "id": "8567628d",
   "metadata": {
    "lines_to_next_cell": 1
   },
   "outputs": [],
   "source": [
    "# reg_agg = None\n",
    "reg_agg = (pd.read_csv(work_path / \"data\" / \"region_agg_spec.tsv\", sep=\"\\t\")\n",
    "           .apply(lambda x: x.str.strip())\n",
    "           .set_index('src')\n",
    "           .to_dict(orient='dict').get('agg'))\n",
    "\n",
    "# sec_agg = None\n",
    "sec_agg = pd.read_csv(work_path / \"data\" / \"sector_agg_spec.tsv\", sep=\"\\t\")\n",
    "\n",
    "sec_agg = (pd.read_csv(work_path / \"data\" / \"sector_agg_spec.tsv\", sep=\"\\t\")\n",
    "           .apply(lambda x: x.str.strip())\n",
    "           .set_index('src')\n",
    "           .to_dict(orient='dict').get('agg'))"
   ]
  },
  {
   "cell_type": "markdown",
   "id": "a9a2dd8d",
   "metadata": {},
   "source": [
    "The actual aggregation function"
   ]
  },
  {
   "cell_type": "code",
   "execution_count": 7,
   "id": "fb1cd7de",
   "metadata": {
    "lines_to_next_cell": 1
   },
   "outputs": [],
   "source": [
    "def aggregate(df, agg_dict, level_to_agg):\n",
    "    assert level_to_agg in df.columns, f\"{level_to_agg} aggregation requested but no {level_to_agg} column in source file\"\n",
    "    assert 'value' in df.columns, \"Sector aggregation requested but no value column in source file\"\n",
    "\n",
    "    col = [c for c in df.columns if c != 'value']\n",
    "\n",
    "    agg_df = df.set_index(col).value.unstack(level_to_agg).T.groupby(agg_dict,sort=False).sum().T.stack(level_to_agg,sort=False)\n",
    "\n",
    "    agg_df.name = 'value'\n",
    "    agg_df = agg_df.reset_index()[df.columns]\n",
    "\n",
    "    return agg_df"
   ]
  },
  {
   "cell_type": "markdown",
   "id": "2ddd5cfc",
   "metadata": {},
   "source": [
    "Loop over all files and aggregate them"
   ]
  },
  {
   "cell_type": "code",
   "execution_count": 8,
   "id": "4e183146",
   "metadata": {},
   "outputs": [
    {
     "name": "stdout",
     "output_type": "stream",
     "text": [
      " Aggregating sector_accounts.tsv along sector dimension\n",
      " Writing aggregated file to /home/konstans/proj/cafean_python/results/sector_accounts_agg.tsv\n",
      " Aggregating footprints_final_demand_breakdown.tsv along sector dimension\n",
      " Writing aggregated file to /home/konstans/proj/cafean_python/results/footprints_final_demand_breakdown_agg.tsv\n",
      " No aggregation done for total_accounts.tsv\n",
      " No aggregation done for footprints_final_demand_breakdown_agg.tsv\n",
      " No aggregation done for footprint_sources_totals_agg.tsv\n",
      " No aggregation done for sector_accounts_agg.tsv\n",
      " Aggregating footprint_sources.tsv along sector dimension\n",
      " Aggregating footprint_sources.tsv along region dimension\n",
      " Writing aggregated file to /home/konstans/proj/cafean_python/results/footprint_sources_agg.tsv\n",
      " No aggregation done for footprint_sources_agg.tsv\n",
      " No aggregation done for household_emissions.tsv\n",
      " Aggregating footprint_sources_totals.tsv along region dimension\n",
      " Writing aggregated file to /home/konstans/proj/cafean_python/results/footprint_sources_totals_agg.tsv\n"
     ]
    }
   ],
   "source": [
    "for fl in src_files:\n",
    "\n",
    "    df = pd.read_csv(fl, sep=\"\\t\")\n",
    "\n",
    "    data_changed = False\n",
    "    if 'sector' in df.columns and sec_agg and set(sec_agg.keys()).issubset(set(df.sector)):\n",
    "        print(f\" Aggregating {fl.name} along sector dimension\")\n",
    "        df = aggregate(df, sec_agg, 'sector')\n",
    "        data_changed = True\n",
    "    if 'region' in df.columns and reg_agg and set(reg_agg.keys()).issubset(set(df.region)):\n",
    "        print(f\" Aggregating {fl.name} along region dimension\")\n",
    "        df = aggregate(df, reg_agg, 'region')\n",
    "        data_changed = True\n",
    "    \n",
    "\n",
    "    if data_changed: \n",
    "        result_file = fl.parent / (fl.stem + agg_suffix + fl.suffix)\n",
    "        print(f\" Writing aggregated file to {result_file}\")\n",
    "        df.to_csv(result_file, sep=\"\\t\", index=False)\n",
    "    else:\n",
    "        print(f\" No aggregation done for {fl.name}\")"
   ]
  }
 ],
 "metadata": {
  "jupytext": {
   "cell_metadata_filter": "-all",
   "encoding": "# -*- coding: utf-8 -*-",
   "notebook_metadata_filter": "-all"
  },
  "kernelspec": {
   "display_name": "Python 3 (ipykernel)",
   "language": "python",
   "name": "python3"
  },
  "language_info": {
   "codemirror_mode": {
    "name": "ipython",
    "version": 3
   },
   "file_extension": ".py",
   "mimetype": "text/x-python",
   "name": "python",
   "nbconvert_exporter": "python",
   "pygments_lexer": "ipython3",
   "version": "3.12.0"
  }
 },
 "nbformat": 4,
 "nbformat_minor": 5
}
